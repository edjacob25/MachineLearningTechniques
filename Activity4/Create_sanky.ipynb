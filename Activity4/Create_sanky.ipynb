{
 "cells": [
  {
   "cell_type": "code",
   "execution_count": null,
   "metadata": {},
   "outputs": [],
   "source": [
    "%load_ext autoreload\n",
    "%autoreload"
   ]
  },
  {
   "cell_type": "code",
   "execution_count": null,
   "metadata": {},
   "outputs": [],
   "source": [
    "import imp\n",
    "import pandas as pd\n",
    "import plotly.graph_objects as go\n",
    "import create_table as ct\n",
    "from pathlib import Path"
   ]
  },
  {
   "cell_type": "code",
   "execution_count": null,
   "metadata": {},
   "outputs": [],
   "source": [
    "p = Path(\"/mnt/f/Downloads/mushrooms.csv\")\n",
    "d = pd.read_csv(p)"
   ]
  },
  {
   "cell_type": "code",
   "execution_count": null,
   "metadata": {},
   "outputs": [],
   "source": [
    "def create_sankey(df: pd.DataFrame, pattern: str):\n",
    "    patterns = ct.convert_pattern(pattern)\n",
    "    r = ct.analyze(df, patterns)\n",
    "    labels = ct.get_all_keys(r)\n",
    "    sources, dests, flows = ct.get_sources_and_dest(r, labels)\n",
    "    node_colors = ct.get_colors_nodes(labels)\n",
    "    links_colors = ct.get_colors_links(sources, dests, labels)\n",
    "    fig = go.Figure(data=[go.Sankey(\n",
    "        node = dict(\n",
    "          pad = 15,\n",
    "          thickness = 20,\n",
    "          line = dict(color = \"black\", width = 0.5),\n",
    "          label = labels,\n",
    "          color = node_colors\n",
    "        ),\n",
    "        link = dict(\n",
    "          source = sources, # indices correspond to labels, eg A1, A2, A2, B1, ...\n",
    "          target = dests,\n",
    "          value = flows,\n",
    "          color = links_colors\n",
    "      ))])\n",
    "\n",
    "    fig.update_layout(title_text=pattern, font_size=10)\n",
    "    fig.show()"
   ]
  },
  {
   "cell_type": "code",
   "execution_count": null,
   "metadata": {},
   "outputs": [],
   "source": [
    "imp.reload(ct)\n",
    "pattern = \"type = 'poisonous'^odor != 'none'^bruises = 'no'\"\n",
    "create_sankey(d, pattern)"
   ]
  },
  {
   "cell_type": "code",
   "execution_count": null,
   "metadata": {},
   "outputs": [],
   "source": [
    "pattern = \"type != 'poisonous'^gill_size = 'broad' AND odor != 'foul' AND ring_number = 'one'\"\n",
    "create_sankey(d, pattern)"
   ]
  },
  {
   "cell_type": "code",
   "execution_count": null,
   "metadata": {},
   "outputs": [],
   "source": [
    "pattern = \"type == 'poisonous'^bruises = 'no' AND gill_spacing = 'close' AND stalk_color_above_ring != 'orange' AND odor != 'none'\"\n",
    "create_sankey(d, pattern)"
   ]
  },
  {
   "cell_type": "code",
   "execution_count": null,
   "metadata": {},
   "outputs": [],
   "source": []
  }
 ],
 "metadata": {
  "kernelspec": {
   "display_name": "Python 3",
   "language": "python",
   "name": "python3"
  },
  "language_info": {
   "codemirror_mode": {
    "name": "ipython",
    "version": 3
   },
   "file_extension": ".py",
   "mimetype": "text/x-python",
   "name": "python",
   "nbconvert_exporter": "python",
   "pygments_lexer": "ipython3",
   "version": "3.7.3"
  }
 },
 "nbformat": 4,
 "nbformat_minor": 4
}
