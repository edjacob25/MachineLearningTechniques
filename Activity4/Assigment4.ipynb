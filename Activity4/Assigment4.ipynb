{
 "cells": [
  {
   "cell_type": "markdown",
   "metadata": {},
   "source": [
    "<font size=\"6\"><center><b>TECNOLÓGICO DE MONTERREY</b></center></font>\n",
    "\n",
    "<br>\n",
    "\n",
    "<font size=\"5\"><center><b>Técnicas computacionales de aprendizaje automático</b></center></font>\n",
    "\n",
    "<font size=\"5\"><center><b>(Machine Learning Techniques)</b></center></font>\n",
    "\n",
    "<br>\n",
    "\n",
    "<font size=\"5\"><center><em> Profr. Dr. Miguel Ángel Medina Pérez</em></center></font>\n",
    "\n",
    "<br>\n",
    "\n",
    "<font size=\"5\"><center><b>Homework 04. Data Visualization From Patterns</b></center></font>\n",
    "\n",
    "<br>\n",
    "\n",
    "<font size=\"4\"><center><em>Authors:</em></center></font>\n",
    "\n",
    "<br>\n",
    "\n",
    "<font size=\"5\"><center><em> Alicia Huidobro Espejel (A01749803)</em></center></font>\n",
    "\n",
    "<font size=\"5\"><center><em> Jesús Leopoldo Llano García (A01748867)</em></center></font>\n",
    "\n",
    "<font size=\"5\"><center><em> Edgar Jacob Rivera Rios (A01184125)</em></center></font>\n",
    "\n",
    "<br>\n",
    "\n",
    "<font size=\"4\"><center> November 11, 2019</center></font>"
   ]
  },
  {
   "cell_type": "markdown",
   "metadata": {},
   "source": [
    "<font size=\"5\"><center><b>1. Introduction</b></center></font>\n",
    "<br>\n",
    "\n",
    "<body><font size=\"3\">Visualising data is a complete field of study with very prominent importance, due to the dificulty of seeing how data behaves, how a model classifies or how a patter covers a percentage of the data just using numbers, to help make it easier for us humans to see these relations several techniques have been proposed throught out the years. For this assignment we explored diffenrent ways to visualize data, from pre-stablished methods to some less common ones. Using diferent datasets each of them with different characteristics we obtained many patterns and then we proceeded to analise their composition and try to obtain the best way for their visualization. Each of the followin sections focuses on the data visualization designs we propose as well as some examples, each with different amounts of attributes. </font></body>"
   ]
  },
  {
   "cell_type": "markdown",
   "metadata": {},
   "source": [
    "<font size=\"5\"><b>2. Visualization for numerical items in binary classification</b></font>\n",
    "\n",
    "<br>\n",
    "\n",
    "<body><font size=\"3\">In this section we will describe our visualization proposal for univariate contrast patterns in a binary classification problem. We designed a different graphical visualization for one, two, three, and four numerical items. Below we describe each proposal and its application in the patterns found in the previous assignments:</font></body>"
   ]
  },
  {
   "cell_type": "markdown",
   "metadata": {},
   "source": [
    "<font size=\"5\"><b>2.1 One numerical item, binary classification (boxplots)</b></font>\n",
    "\n",
    "<br>\n",
    "\n",
    "<font size=\"4\"><b>2.1.1 Design description</b></font>\n",
    "\n",
    "<br>\n",
    "\n",
    "<body><font size=\"3\">For one numerical item, we propose <b>boxplots</b> and <b>violin plots</b>. A box and whisker plot —also called a box plot— displays the five-number summary of a set of data. The five-number summary is the minimum, first quartile, median, third quartile, and maximum. In a box plot, we draw a box from the first quartile to the third quartile. A vertical line goes through the box at the median. The whiskers go from each quartile to the minimum or maximum. A boxplot is a standardized way of displaying the distribution of data, it can show the outliers and their values, it can also show if the data is symmetrical, how tightly it is grouped, and if and how the data is skewed. Figure 1 shows the parts of a boxplot, which are covered with our visualization proposal. The boxplots shown in this section were created with <em>matplotlib</em>, for violin plots we used <em>altair</em> library. In both cases, we are using a different fill color for each class.</font></body>\n",
    "\n",
    "<figure>\n",
    "  <img src=\"boxplot.png\">\n",
    "    <figcaption><center>Figure 1: Different parts of a boxplot.</center></figcaption>\n",
    "</figure>\n",
    "\n",
    "<body><font size=\"3\">Boxplots are convenient for comparing summary statistics (such as range and quartiles) but does not let you see variations in the data. For multimodal distributions (those with multiple peaks) this can be particularly limiting. A violin plot is a hybrid of a box plot and a kernel density plot, which shows peaks in the data. Figure 2 shows how the peaks of a violin plot represents the probability. </font></body>\n",
    "\n",
    "<body><font size =\"3\">How to decide between boxplots and violin plots? We suggest boxplots when most of the values are clustered around the median. For a different distribution (e.g. if values are clustered around the minimum and the maximum with nothing in the middle) we suggest violin plots. There exists a visualization that overlays a boxplot to a violin plot, but we considered it not so friendly. The boxplots and violin graphs showed in section 2.1.2 are independent, we show them together in this document in order to compare them.</font></body>\n",
    "\n",
    "<figure>\n",
    "  <img src=\"violinplot2.png\" height=\"500\" width=\"400\">\n",
    "    <figcaption><center>Figure 2: Violin plot.</center></figcaption>\n",
    "</figure>"
   ]
  },
  {
   "cell_type": "markdown",
   "metadata": {},
   "source": [
    "<font size=\"4\"><b> 2.1.2 Visualization of Universities Patterns</b></font>\n",
    "\n",
    "<br>\n",
    "\n",
    "<body><font size =\"3\"><b>Pattern:</b> outputs_in_top_25percent_citation_avg > 3216.40} [0.62, 0.07]</font>\n",
    "</body>\n",
    "\n",
    "<br>\n",
    "<br>\n",
    "\n",
    "<body><font size =\"3\">This pattern indicates that the best universities have, on average, more than 3216 outputs in the 25% of the most-cited papers in Scopus. The pattern has 0.62 support for class_0 and 0.07 support for class_1. In the following violin plot we can easily see that the widest part of class_0 is over the highlighted boundary of the pattern (3216.40). Some instances of class_0 are also found in higher values of the vertical axis. On the other hand, class_1 is more crowded below the boundary (3216.40).</font></body>"
   ]
  },
  {
   "cell_type": "markdown",
   "metadata": {},
   "source": [
    "### 2.1.2 a) One numerical item, binary classification (box plots)"
   ]
  },
  {
   "cell_type": "code",
   "execution_count": null,
   "metadata": {},
   "outputs": [],
   "source": [
    "import pandas as pd\n",
    "import seaborn as sns\n",
    "df = pd.read_csv(\"Data/filteredData_WithClass.csv\")\n",
    "\n",
    "# Draw a vertical boxplot grouped \n",
    "# by a categorical variable: \n",
    "sns.set_style(\"whitegrid\") \n",
    "\n",
    "sns.boxplot(x = 'class', y = 'outputs_in_top_25percent_citation_avg', data = df) \n",
    "\n",
    "# Other attributes (one item patterns) to create the graph:\n",
    "# outputs_in_top_25percent_citation_avg\n",
    "# citations_per_publication_articles_conference_papers_growth\n",
    "# outputs_in_top_1percent_citation_avg"
   ]
  },
  {
   "cell_type": "markdown",
   "metadata": {},
   "source": [
    "### 2.1.2 b) One numerical item, binary classification (violin plots)"
   ]
  },
  {
   "cell_type": "code",
   "execution_count": null,
   "metadata": {
    "scrolled": true
   },
   "outputs": [],
   "source": [
    "import altair as alt\n",
    "from altair import datum\n",
    "from vega_datasets import data\n",
    "#lt.renderers.enable('notebook')\n",
    "data = pd.read_csv('data/filteredData_WithClass.csv')\n",
    "\n",
    "alt.Chart(data).transform_filter(\n",
    "    datum.outputs_in_top_25percent_citation_avg > 0\n",
    ").transform_bin(\n",
    "    ['bin_max', 'bin_min'], field='outputs_in_top_25percent_citation_avg', bin=alt.Bin(maxbins=20)\n",
    ").transform_calculate(\n",
    "    binned=(datum.bin_max + datum.bin_min) / 2\n",
    ").transform_aggregate(\n",
    "    value_count='count()', groupby=['class', 'binned']\n",
    ").transform_impute(\n",
    "    impute='value_count', groupby=['class'], key='binned', value=0\n",
    ").mark_area(\n",
    "    interpolate='monotone',\n",
    "    orient='horizontal'\n",
    ").encode(\n",
    "    x=alt.X(\n",
    "        'value_count:Q',\n",
    "        title=None,\n",
    "        stack='center',\n",
    "        axis=alt.Axis(labels=False, values=[0],grid=False, ticks=True),\n",
    "    ),\n",
    "    y=alt.Y('binned:Q', bin='binned', title='outputs_in_top_25percent_citation_avg'),\n",
    "    color=alt.Color('class:N', legend=None),\n",
    "    column=alt.Column(\n",
    "        'class:N',\n",
    "        header=alt.Header(\n",
    "            titleOrient='bottom',\n",
    "            labelOrient='bottom',\n",
    "            labelPadding=0,\n",
    "        ),\n",
    "    ),\n",
    ").properties(\n",
    "    width=80\n",
    ").configure_facet(\n",
    "    spacing=0\n",
    ").configure_view(\n",
    "    stroke=None\n",
    ")\n",
    "\n",
    "# Other attributes (one item patterns) to create the graph:\n",
    "# outputs_in_top_25percent_citation_avg\n",
    "# citations_per_publication_articles_conference_papers_growth\n",
    "# outputs_in_top_1percent_citation_avg"
   ]
  },
  {
   "cell_type": "markdown",
   "metadata": {},
   "source": [
    "<font size=\"5\"><b>2.2 Two numerical items, binary classification</b></font>\n",
    "\n",
    "<br>\n",
    "\n",
    "<font size=\"4\"><b>2.2.1 Design description</b></font>\n",
    "\n",
    "<br>\n",
    "\n",
    "<body><font size=\"3\">For two numerical items, we designed a colored scatter plot because it allow us to observe relationships between variables. Identification of correlational relationships are common with scatter plots. In these cases, we want to know, if we were given a particular horizontal value, what a good prediction would be for the vertical value. Relationships between variables can be described in many ways: positive or negative, strong or weak, linear or nonlinear. Figure 3 summarizes this relationships.</font></body>\n",
    "\n",
    "<br>\n",
    "<br>\n",
    "\n",
    "<body><font size=\"3\">The design of the proposed visualization consists of using each axis for the values of a different attribute, and using colors to distinguish classes. This graph allow us to easily see the most crowded points of each attribute as well as identify the furthest points or outliers. We can also see the correlation between both attributes. The proposed visualization is interactive, that allow us to zoom in and out as needed. We used <em>altair</em> library to construct this graphs. </font></body>\n",
    "\n",
    "<figure>\n",
    "  <img src=\"scatter-plot.png\" height=\"500\" width=\"400\">\n",
    "    <figcaption><center>Figure 3: A brief description of relationships between variables in scatter plots.</center></figcaption>\n",
    "</figure>"
   ]
  },
  {
   "cell_type": "markdown",
   "metadata": {},
   "source": [
    "### 2.2.2 Visualization of Universities Pattern"
   ]
  },
  {
   "cell_type": "markdown",
   "metadata": {},
   "source": [
    "<body><font size =\"3\"><b>Pattern:</b> outputs_in_top_10percent_citation_2016 > 1774.50 AND outputs_in_top_10percent_citation_articles_reviews_conference_papers_growth > -31.38  [0.48, 0.00]</font>\n",
    "</body>\n",
    "\n",
    "<br>\n",
    "<br>\n",
    "\n",
    "<body><font size =\"3\">This pattern has 0.48 support for the class_0 and 0.0 support for class_1. The first attribute means that the best universities had more than 1774.50 outputs in the 10% of the most-cited documents in Scopus, during 2016. The second attribute means that they also have a decrease (or negative growth) bigger than 31.38 in the outputs in the 10% of the most-cited articles, reviews and conference papers in Scopus. In the following graphs we can appreciate that, due to the distribution of the points, we can conclude that there is a moderate negative relationship between this two attributes. This graph allow us to move the grid and zoom in the graph, in order to explore in more detail the areas of interest.</font></body>"
   ]
  },
  {
   "cell_type": "code",
   "execution_count": null,
   "metadata": {},
   "outputs": [],
   "source": [
    "import altair as alt\n",
    "from vega_datasets import data\n",
    "\n",
    "data = pd.read_csv('Data/filteredData_WithClass.csv')\n",
    "\n",
    "alt.Chart(data).mark_circle().encode(\n",
    "    x='outputs_in_top_10percent_citation_2016',\n",
    "    y='outputs_in_top_10percent_citation_articles_reviews_conference_papers_growth',\n",
    "    color='class',\n",
    ").interactive()"
   ]
  },
  {
   "cell_type": "markdown",
   "metadata": {},
   "source": [
    "<font size=\"5\"><b>2.3 Three numerical items, binary classification</b></font>\n",
    "\n",
    "<br>\n",
    "\n",
    "<font size=\"4\"><b>2.3.1 Design description</b></font>\n",
    "\n",
    "<br>\n",
    "\n",
    "<body><font size=\"3\">For patterns with three numerical items, we used multifeatured colored scatter plots. So, the description of 2.2.1 applies to this visualization. We used <em>altair</em> library. In this visualization, we are still using each axis for the values of a different attribute and the size of each circle is according to the value of the third attribute. It is important to select which attribute will be assigned to those three positions because the resulting graph could be very different, as exemplified in the following graphs.</font></body>"
   ]
  },
  {
   "cell_type": "markdown",
   "metadata": {},
   "source": [
    "### 2.3.2 Visualization of Universities Pattern\n",
    "\n",
    "<body><font size =\"3\"><b>Pattern:</b> scholarly_output_2017 $>$ 7855.50 AND citation_count_growth_acc $\\le$ -3759.50 AND publications_in_top_5percent_journal_growth_acc $\\le$ 405.00  [0.48, 0.00]</font>\n",
    "</body>\n",
    "\n",
    "<br>\n",
    "<br>\n",
    "\n",
    "<body><font size =\"3\">This pattern has 0.48 support for the class\\_0 and 0.0 support for class\\_1. The pattern indicates that the best universities had more than 7855 publications in 2017, an accumulated decrease (or negative growth) in citation count smaller to 3759 and a growth smaller or equal to 405 in outputs in the 5\\% of the best journals in Scopus.</font></body>\n",
    "    \n",
    "<body><font size =\"3\">This pattern can be visualized in the following graphs. It is remarkable the difference obtained just by changing the position of the attributes. The attributes related to the accumulated growth in citations and publications were assigned to the graph axis can be seen in the first graph, while the size of the circles indicates the value of the scholarly output. This way, we can clearly see the blue and orange points that distinguish each class. The size of the circles is also visible. With respect to the relationships between variables, the points are scattered with a slightly marked agglomeration in the upper central part and bigger circles are in the outside of such agglomeration; but we could conclude that there is not relationship between the attributes. On the other hand, for the second graph we used axis for scholarly output and the citation count growth, while the size of the circles refers to the growth in publications. This last visualization shows a strong negative relation between the attributes in the axis.</font></body>\n",
    "    \n",
    "<body><font size =\"3\">"
   ]
  },
  {
   "cell_type": "code",
   "execution_count": null,
   "metadata": {},
   "outputs": [],
   "source": [
    "import altair as alt\n",
    "from vega_datasets import data\n",
    "\n",
    "data = pd.read_csv('Data/filteredData_WithClass.csv')\n",
    "\n",
    "alt.Chart(data).mark_circle().encode(\n",
    "    alt.X('publications_in_top_5percent_journal_growth_acc', scale=alt.Scale(zero=False)),\n",
    "    alt.Y('citation_count_growth_acc', scale=alt.Scale(zero=False, padding=1)),\n",
    "    color='class',\n",
    "    size='scholarly_output_2017'\n",
    ")\n",
    "\n",
    "alt.Chart(data).mark_circle().encode(\n",
    "    alt.X('citation_count_growth_acc', scale=alt.Scale(zero=False)),\n",
    "    alt.Y('publications_in_top_5percent_journal_growth_acc', scale=alt.Scale(zero=False, padding=1)),\n",
    "    color='class',\n",
    "    size='publications_in_top_5percent_journal_growth_acc'\n",
    ")"
   ]
  },
  {
   "cell_type": "code",
   "execution_count": null,
   "metadata": {},
   "outputs": [],
   "source": [
    "import altair as alt\n",
    "data = pd.read_csv('Data/filteredData_WithClass.csv')\n",
    "alt.Chart(data).mark_circle().encode(\n",
    "    alt.X('publications_in_top_1percent_journal_2017:Q', \n",
    "           scale=alt.Scale(type='log')),\n",
    "    alt.Y('citations_per_publication_articles_conference_papers_avg:Q', \n",
    "           scale=alt.Scale(zero=False)),\n",
    "     color='class:N',\n",
    "    size='outputs_in_top_25percent_citation_articles_only_2017:Q'\n",
    ")"
   ]
  },
  {
   "cell_type": "markdown",
   "metadata": {},
   "source": [
    "<font size=\"5\"><b>2.4 Four numerical items, binary classification</b></font>\n",
    "\n",
    "<br>\n",
    "\n",
    "<font size=\"4\"><b>2.4.1 Design description</b></font>\n",
    "\n",
    "<br>\n",
    "\n",
    "<body><font size=\"3\">For patterns with four numerical items, we used 3D scatter plots. So, the description of 2.2.1 applies to this visualization. We used the <em>plotly</em> library. In this visualization, we are still using each axis for the values of a different attribute and the color indicates the value of the fourth attribute. Changing the attribute that will be assigned to the color scale (not to an axis) will result in a different graph. </font></body>\n",
    "\n",
    "<body><font size=\"3\">We tested a variant in which the color indicates the class and the size of each circle is according to the value of the fourth attribute (as exemplified in Figure 4). The code of such graph is delivered in the Jupyter Notebook, nevertheless for this particular dataset we preferred the first visualization proposal that does not indicate the class (Figures</font></body>\n",
    "\n",
    "<figure>\n",
    "  <img src=\"4ItemScatterplot.png\" height=\"700\" width=\"700\">\n",
    "    <figcaption><center>Figure 4: Multifeature Scatter Plot for 4 item patterns a).  The color indicates the attribute \"out-puts_in_top_10percent_citation_articles_only_2017\", the darkest blue corresponds to the lower valuesand the lightest corresponds to the highest values.</center></figcaption>\n",
    "</figure>\n"
   ]
  },
  {
   "cell_type": "markdown",
   "metadata": {},
   "source": [
    "### 2.4.2 4D scatterplot (no class distinction)"
   ]
  },
  {
   "cell_type": "code",
   "execution_count": null,
   "metadata": {},
   "outputs": [],
   "source": [
    "import pandas as pd\n",
    "import plotly\n",
    "import plotly.graph_objs as go\n",
    "\n",
    "\n",
    "#Read data from csv\n",
    "data = pd.read_csv('Data/filteredData_WithClass.csv')\n",
    "\n",
    "#Set marker properties\n",
    "markercolor = data['outputs_in_top_10percent_citation_articles_only_2017']\n",
    "\n",
    "#Make Plotly figure\n",
    "fig1 = go.Scatter3d(x=data['outputs_in_top_25percent_citation_avg'],\n",
    "                    y=data['citations_per_publication_articles_conference_papers_growth'],\n",
    "                    z=data['publications_in_top_1percent_journal_2017'],\n",
    "                    marker=dict(color=markercolor,\n",
    "                                opacity=1,\n",
    "                                reversescale=True,\n",
    "                                colorscale='Blues',\n",
    "                                size=5),\n",
    "                    line=dict (width=0.02),\n",
    "                    mode='markers')\n",
    "\n",
    "#Make Plot.ly Layout\n",
    "mylayout = go.Layout(scene=dict(xaxis=dict( title=\"outputs_top25_citation_avg\"),\n",
    "                                yaxis=dict( title=\"citations_p/public_growth\"),\n",
    "                                zaxis=dict(title=\"public_top1_journals_2017\")),)\n",
    "\n",
    "#Plot and save html\n",
    "plotly.offline.plot({\"data\": [fig1],\n",
    "                     \"layout\": mylayout},\n",
    "                     auto_open=True,\n",
    "                     filename=(\"4DPlot.html\"))"
   ]
  },
  {
   "cell_type": "markdown",
   "metadata": {},
   "source": [
    "### 2.4.3 4D scatterplot (with class distinction)"
   ]
  },
  {
   "cell_type": "code",
   "execution_count": null,
   "metadata": {},
   "outputs": [],
   "source": [
    "import pandas as pd\n",
    "import plotly\n",
    "import plotly.graph_objs as go\n",
    "\n",
    "\n",
    "#Read cars data from csv\n",
    "data = pd.read_csv(\"Data/filteredData_WithClass.csv\")\n",
    "\n",
    "#Set marker properties\n",
    "markersize = data['outputs_in_top_10percent_citation_articles_only_2017']/100\n",
    "markercolor = data['class1']\n",
    "\n",
    "#Make Plotly figure\n",
    "fig1 = go.Scatter3d(x=data['outputs_in_top_25percent_citation_avg'],\n",
    "                    y=data['citations_per_publication_articles_conference_papers_growth'],\n",
    "                    z=data['publications_in_top_1percent_journal_2017'],\n",
    "                    marker=dict(size=markersize,\n",
    "                                color=markercolor,\n",
    "                                opacity=0.9,\n",
    "                                reversescale=True,\n",
    "                                colorscale='Greys'),\n",
    "                    line=dict (width=0.02),\n",
    "                    mode='markers')\n",
    "\n",
    "#Make Plot.ly Layout\n",
    "mylayout = go.Layout(scene=dict(xaxis=dict( title=\"outputs_top25_citation_avg\"),\n",
    "                                yaxis=dict( title=\"citations_per_publication_growth\"),\n",
    "                                zaxis=dict(title=\"publications_top1_journal_2017\")),)\n",
    "\n",
    "#Plot and save html\n",
    "plotly.offline.plot({\"data\": [fig1],\n",
    "                     \"layout\": mylayout},\n",
    "                     auto_open=True,\n",
    "                     filename=(\"5D Plot.html\"))"
   ]
  },
  {
   "cell_type": "markdown",
   "metadata": {},
   "source": [
    "<font size=\"5\"><b>3. Visualization for categorical items</b></font>\n",
    "\n",
    "<br>\n",
    "\n",
    "<body><font size=\"3\">In this section we will describe our visualization proposal for univariate contrast patterns in a binary classification problem with only categorical data. We proposed the usage of Alluvial diagrams for the visualization of patterns with one, two, three and four attributes:</font></body>"
   ]
  },
  {
   "cell_type": "code",
   "execution_count": null,
   "metadata": {},
   "outputs": [],
   "source": [
    "import imp\n",
    "import pandas as pd\n",
    "import plotly.graph_objects as go\n",
    "import create_table as ct\n",
    "from pathlib import Path\n",
    "\n",
    "def create_sankey(df: pd.DataFrame, pattern: str, class_name, num_classes=0):\n",
    "    patterns = ct.convert_pattern(pattern)\n",
    "    \n",
    "    r = ct.analyze_initial(df, patterns[:-1], patterns[-1], class_name)\n",
    "    labels = ct.get_all_keys(r)\n",
    "    sources, dests, flows, ways = ct.get_sources_and_dest(r, labels)\n",
    "    node_colors = ct.get_colors_nodes(labels, num_classes)\n",
    "    links_colors = ct.get_colors_links(sources, dests, labels, ways)\n",
    "    fig = go.Figure(data=[go.Sankey(\n",
    "        node = dict(\n",
    "          pad = 15,\n",
    "          thickness = 20,\n",
    "          line = dict(color = \"black\", width = 0.5),\n",
    "          label = labels,\n",
    "          color = node_colors\n",
    "        ),\n",
    "        link = dict(\n",
    "          source = sources,\n",
    "          target = dests,\n",
    "          value = flows,\n",
    "          color = links_colors\n",
    "      ))])\n",
    "\n",
    "    fig.update_layout(title_text=pattern, font_size=10)\n",
    "    fig.show()"
   ]
  },
  {
   "cell_type": "code",
   "execution_count": null,
   "metadata": {},
   "outputs": [],
   "source": [
    "p = Path(\"Data/mushrooms.csv\")\n",
    "d = pd.read_csv(p)"
   ]
  },
  {
   "cell_type": "code",
   "execution_count": null,
   "metadata": {},
   "outputs": [],
   "source": [
    "pattern = \"odor != 'none' AND bruises = 'no'[0.83 0.00]\"\n",
    "create_sankey(d, pattern, \"type\" )"
   ]
  },
  {
   "cell_type": "code",
   "execution_count": null,
   "metadata": {},
   "outputs": [],
   "source": [
    "pattern = \"gill_size = 'broad' AND odor != 'foul' AND ring_number = 'one'[0.00 0.81]\"\n",
    "create_sankey(d, pattern, \"type\")"
   ]
  },
  {
   "cell_type": "code",
   "execution_count": null,
   "metadata": {},
   "outputs": [],
   "source": [
    "pattern = \"bruises = 'no' AND gill_spacing = 'close' AND stalk_color_above_ring != 'orange' AND odor != 'none'[0.81 0.00]\"\n",
    "create_sankey(d, pattern, \"type\")"
   ]
  },
  {
   "cell_type": "markdown",
   "metadata": {},
   "source": [
    "<font size=\"5\"><b>3.1 One numerical item, multiclass classification</b></font>\n",
    "\n",
    "<br>\n",
    "\n",
    "<font size=\"4\"><b>3.1.1 Design description</b></font>\n",
    "\n",
    "<br>\n",
    "\n",
    "<body><font size=\"3\">Alluvial diagrams are a form of Sankey diagrams, used nowadays as a tool for categorical data visualisation. It differs from the standard Sankey diagrams due to the fact that they only flow forward representing changes in group composition between attributes. The data in this diagrams is grouped into flows that can easily be traced, this proves very useful for data visualisation.</font></body>\n",
    "\n",
    "<br>\n",
    "\n",
    "<body><font size=\"3\">For this particular work, each vertical block of the diagram represents attributes of the instances that compose a data-set, the height of such blocks represents the amount of instances that contain that attribute. The connections between the blocks going from left to right, represent how instances split or unify according to the attributes they contain, where the width of the connections show the proportion of instances that move to the next block. E.g. in figure \\ref{fig:attr1} we can see the diagram of a pattern obtained from a data-set that separates \\textit{poisonous} from \\textit{non poisonous} mushrooms, the pattern is compose by one attribute ('odor') and it covers about 55\\% of the instances labelled as poisonous of the data. The green flux shows those instances that are covered by the pattern while the grey flux represents those instances that are not covered by the pattern.</font></body>"
   ]
  },
  {
   "cell_type": "markdown",
   "metadata": {},
   "source": [
    "<font size=\"5\"><b>4. Visualization for numerical items in multiclass classification</b></font>\n",
    "\n",
    "<br>\n",
    "\n",
    "<body><font size=\"3\">For multiclass classification we used the dataset \"cars\", which is published in the UCI Machine Learning Repository. The proposed visualizations are basically the same than those for numerical items in binary classification (violin plots and scatter plots), therefore we will not repeated the design description. </font></body>"
   ]
  },
  {
   "cell_type": "markdown",
   "metadata": {},
   "source": [
    "<font size=\"5\"><b>4.1 One numerical item, multiclass classification</b></font>\n",
    "\n",
    "<br>\n",
    "\n",
    "<font size=\"4\"><b>4.1.1 Design description</b></font>\n",
    "\n",
    "<br>\n",
    "\n",
    "<body><font size=\"3\">We created violin plots using \\textit{seaborn}, just to test a different library. Following the same design as the one for singleclass classification this time we present one next to the other the plots obtained for each of the classes of the data. This violin plots clearly show the median. The vertical axis indicates the value of the numerical attribute and the horizontal axis shows the different classes.</font></body>\n",
    "\n",
    "<figure>\n",
    "  <img src=\"1Item_Multiclass.png\"height=\"500\" width=\"500\">\n",
    "    <figcaption><center>Figure 5: Visualization for 1 numerical item in multiclass classification. The vertical axis indicates the length value and the horizontal axis shows the different body styles as classes.</center></figcaption>\n",
    "</figure>"
   ]
  },
  {
   "cell_type": "markdown",
   "metadata": {},
   "source": [
    "### 4.1.2 One numerical item, multiclass"
   ]
  },
  {
   "cell_type": "code",
   "execution_count": null,
   "metadata": {},
   "outputs": [],
   "source": [
    "import seaborn as sns\n",
    "sns.set(style=\"whitegrid\")\n",
    "cars = pd.read_csv('Data/cars.csv')\n",
    "#ax = sns.violinplot(x=cars[\"price\"])\n",
    "ax = sns.violinplot(x=\"body-style\", y=\"length\", data=cars)"
   ]
  },
  {
   "cell_type": "markdown",
   "metadata": {},
   "source": [
    "<font size=\"5\"><b>4.2 Two numerical item, multiclass classification</b></font>\n",
    "\n",
    "<br>\n",
    "\n",
    "<font size=\"4\"><b>4.2.1 Design description</b></font>\n",
    "\n",
    "<br>\n",
    "\n",
    "<body><font size=\"3\">The visualization for two numerical items is a colored scatter plot, using each axis for the value of each attribute. In the case of multi class, each class becomes clearly distinguishable through colors. The graph below shows two attributes and the values each of the classes has. In this particular case a negative relationship between the attributes becomes extremely evident.</font></body>"
   ]
  },
  {
   "cell_type": "markdown",
   "metadata": {},
   "source": [
    "### 4.2.2 Scatter plot for 2 attributes multiclass"
   ]
  },
  {
   "cell_type": "code",
   "execution_count": null,
   "metadata": {},
   "outputs": [],
   "source": [
    "import altair as alt\n",
    "from vega_datasets import data\n",
    "\n",
    "data = pd.read_csv('Data/cars.csv')\n",
    "\n",
    "alt.Chart(data).mark_circle().encode(\n",
    "    x='city-mpg',\n",
    "    y='engine-size',\n",
    "    color='num-of-cylinders',\n",
    ").interactive()"
   ]
  },
  {
   "cell_type": "markdown",
   "metadata": {},
   "source": [
    "<font size=\"5\"><b>4.3 Three numerical items, multiclass classification</b></font>\n",
    "\n",
    "<br>\n",
    "\n",
    "<font size=\"4\"><b>4.3.1 Design description</b></font>\n",
    "\n",
    "<br>\n",
    "\n",
    "<body><font size=\"3\">The visualization for three numerical items is a colored scatter plot, using each axis for the value of each attribute plus a third attribute represented as the diamater of each the circle, changing the overall size of the marker. The graph below shows two attributes on the axis, and a third one as the size of the circle. In this example the data is labeled under differnt categorical classes each clearly distinguishable through different colors.</font></body>"
   ]
  },
  {
   "cell_type": "code",
   "execution_count": null,
   "metadata": {},
   "outputs": [],
   "source": [
    "import altair as alt\n",
    "from vega_datasets import data\n",
    "\n",
    "data = pd.read_csv('Data/cars.csv')\n",
    "\n",
    "alt.Chart(data).mark_circle().encode(\n",
    "    alt.X('length', scale=alt.Scale(zero=False)),\n",
    "    alt.Y('width', scale=alt.Scale(zero=False, padding=1)),\n",
    "    color='body-style',\n",
    "    size='city-mpg'\n",
    ")"
   ]
  },
  {
   "cell_type": "markdown",
   "metadata": {},
   "source": [
    "<font size=\"5\"><b>4.4 Four numerical item, multiclass</b></font>\n",
    "\n",
    "<br>\n",
    "\n",
    "<font size=\"4\"><b>4.4.1 Design description</b></font>\n",
    "\n",
    "<br>\n",
    "\n",
    "<body><font size=\"3\">For this particular case we created scatter plot using \\textit{plotly}, however the previous library can be used too. Three attributes are assigned to each axis and the fourth attribute is indicated using a color scale. The class is represented thwough different symbols, one for each class, which in the below examples are: class_1 = circle, class_2 = diamond, class_3 = square and class_4 = X. Classes can be added and deleted interactively in the following graphs.</font></body>"
   ]
  },
  {
   "cell_type": "code",
   "execution_count": null,
   "metadata": {},
   "outputs": [],
   "source": [
    "import plotly.express as px\n",
    "data = pd.read_csv(\"Data/cars.csv\")\n",
    "fig = px.scatter_3d(data, x='curb-weight', y='horsepower', z='price',\n",
    "              color='Num-of-cylinders2', size='Num-of-cylinders2', size_max=12,\n",
    "              symbol='body-style', opacity=0.7)\n",
    "\n",
    "# tight layout\n",
    "fig.update_layout(margin=dict(l=0, r=0, b=0, t=0))"
   ]
  },
  {
   "cell_type": "code",
   "execution_count": null,
   "metadata": {},
   "outputs": [],
   "source": [
    "import pandas as pd\n",
    "import plotly\n",
    "import plotly.graph_objs as go\n",
    "\n",
    "\n",
    "#Read cars data from csv\n",
    "data = pd.read_csv(\"Data/cars.csv\")\n",
    "\n",
    "#Set marker properties\n",
    "markersize = data['engine-size']/15\n",
    "markercolor = data['city-mpg']\n",
    "markershape = data['body-style'].replace(\"sedan\",\"square\").replace(\"wagon\",\"circle\").replace(\"hatchback\",\"cross\").replace(\"hardtop\",\"diamond\").replace(\"convertible\",\"x\")\n",
    "\n",
    "\n",
    "#Make Plotly figure\n",
    "fig1 = go.Scatter3d(x=data['curb-weight'],\n",
    "                    y=data['horsepower'],\n",
    "                    z=data['price'],\n",
    "                    marker=dict(size=markersize,\n",
    "                                color=markercolor,\n",
    "                                symbol=markershape,\n",
    "                                opacity=0.9,\n",
    "                                reversescale=True,\n",
    "                                colorscale='Blues'),\n",
    "                    line=dict (width=0.02),\n",
    "                    mode='markers')\n",
    "\n",
    "#Make Plot.ly Layout\n",
    "mylayout = go.Layout(scene=dict(xaxis=dict( title=\"engine-size\"),\n",
    "                                yaxis=dict( title=\"horsepower\"),\n",
    "                                zaxis=dict(title=\"price\")),)\n",
    "\n",
    "#Plot and save html\n",
    "plotly.offline.plot({\"data\": [fig1],\n",
    "                     \"layout\": mylayout},\n",
    "                     auto_open=True,\n",
    "                     filename=(\"6DPlot.html\"))"
   ]
  },
  {
   "cell_type": "markdown",
   "metadata": {},
   "source": [
    "<font size=\"5\"><b>5. Visualization for categorical items with many classes</b></font>\n",
    "\n",
    "<br>\n",
    "\n",
    "<body><font size=\"3\">In this section we will describe our visualization proposal for univariate contrast patterns in a multiclass classification problem with only categorical data. We proposed the usage of Alluvial diagrams for the visualization of patterns with one, two, three and four attributes:</font></body>"
   ]
  },
  {
   "cell_type": "code",
   "execution_count": null,
   "metadata": {},
   "outputs": [],
   "source": [
    "p = Path(\"Data/car.csv\")\n",
    "d = pd.read_csv(p)\n",
    "d = d.rename(columns={\"class\": \"class0\"})"
   ]
  },
  {
   "cell_type": "code",
   "execution_count": null,
   "metadata": {},
   "outputs": [],
   "source": [
    "pattern = \"safety = 'low'[0.48 0.00 0.00 0.00]\"\n",
    "create_sankey(d, pattern, \"class0\", 4)"
   ]
  },
  {
   "cell_type": "code",
   "execution_count": null,
   "metadata": {},
   "outputs": [],
   "source": [
    "pattern = \"paint != 'vhigh' AND  persons = '2'[0.36 0.00 0.00 0.00]\"\n",
    "create_sankey(d, pattern, \"class0\", 4)"
   ]
  },
  {
   "cell_type": "code",
   "execution_count": null,
   "metadata": {},
   "outputs": [],
   "source": [
    "pattern = \"buying != 'vhigh' AND  safety != 'low' AND  persons = '2'[0.24 0.00 0.00 0.00]\"\n",
    "create_sankey(d, pattern, \"class0\", 4)"
   ]
  },
  {
   "cell_type": "code",
   "execution_count": null,
   "metadata": {},
   "outputs": [],
   "source": [
    "pattern = \"persons != '2' AND buying != 'vhigh' AND  paint != 'vhigh' AND  safety = 'low'[0.18 0.00 0.00 0.00]\"\n",
    "create_sankey(d, pattern, \"class0\", 4)"
   ]
  },
  {
   "cell_type": "markdown",
   "metadata": {},
   "source": [
    "<font size=\"5\"><b>6. Visualization for categorical and numerical items</b></font>\n",
    "\n",
    "<br>\n",
    "\n",
    "<body><font size=\"3\">In this section we will describe our visualization proposal for univariate contrast patterns with both numerical and cathegorical data. We proposed the usage of Alluvial diagrams for the visualization of patterns with one, two, three and four attributes:</font></body>"
   ]
  },
  {
   "cell_type": "code",
   "execution_count": null,
   "metadata": {},
   "outputs": [],
   "source": [
    "p = Path(\"Data/adult.csv\")\n",
    "d = pd.read_csv(p)\n",
    "d = d.rename(columns={\"class\": \"class0\"})\n",
    "d = d.rename(columns=lambda a: a.replace(\"-\", \" \"))"
   ]
  },
  {
   "cell_type": "code",
   "execution_count": null,
   "metadata": {},
   "outputs": [],
   "source": [
    "pattern = \"sex = ' Female'[0.39 0.15]\"\n",
    "create_sankey(d, pattern, \"class0\")"
   ]
  },
  {
   "cell_type": "code",
   "execution_count": null,
   "metadata": {},
   "outputs": [],
   "source": [
    "pattern = \"hours-per-week <= 41.50 AND relationship != ' Husband'[0.57 0.14]\"\n",
    "create_sankey(d, pattern, \"class0\")"
   ]
  },
  {
   "cell_type": "code",
   "execution_count": null,
   "metadata": {},
   "outputs": [],
   "source": [
    "pattern = \"relationship != ' Husband' AND relationship != ' Wife' AND education-num <= 12.50[0.55 0.06]\"\n",
    "create_sankey(d, pattern, \"class0\")"
   ]
  },
  {
   "cell_type": "code",
   "execution_count": null,
   "metadata": {},
   "outputs": [],
   "source": [
    "pattern = \"hours-per-week <= 41.50 AND relationship != ' Husband' AND marital-status != ' Married-civ-spouse' AND capital-gain <= 7139.50[0.54 0.05]\"\n",
    "create_sankey(d, pattern, \"class0\")"
   ]
  },
  {
   "cell_type": "markdown",
   "metadata": {},
   "source": [
    "<font size=\"5\"><b>8. Visualization for numerical items in multiclass classification</b></font>\n",
    "\n",
    "<br>\n",
    "\n",
    "<body><font size=\"3\">In this particular assignment we had to come up with different way to visualise diferent dimensionalities of patterns within data. We noticed that there is a considerable big array of prestablished techniques that can be use for this taks. We explored the usage of Sankey diagrams, more properly the usage of Alluvial diagrams as a way to demonstrate how the elements grouped throught the elements of a patter, not only for unary and binary labeled data but also for data with multiple classes.</font></body>"
   ]
  },
  {
   "cell_type": "markdown",
   "metadata": {},
   "source": [
    "### 1 numerical item and 1 categorical item"
   ]
  },
  {
   "cell_type": "code",
   "execution_count": null,
   "metadata": {},
   "outputs": [],
   "source": [
    "import altair as alt\n",
    "from vega_datasets import data\n",
    "\n",
    "data = pd.read_csv('Data/cars.csv')\n",
    "\n",
    "alt.Chart(data).mark_circle().encode(\n",
    "    x='horsepower',\n",
    "    y='engine-type',\n",
    "    color='num-of-cylinders',\n",
    ").interactive()"
   ]
  }
 ],
 "metadata": {
  "kernelspec": {
   "display_name": "Python 3",
   "language": "python",
   "name": "python3"
  },
  "language_info": {
   "codemirror_mode": {
    "name": "ipython",
    "version": 3
   },
   "file_extension": ".py",
   "mimetype": "text/x-python",
   "name": "python",
   "nbconvert_exporter": "python",
   "pygments_lexer": "ipython3",
   "version": "3.7.3"
  }
 },
 "nbformat": 4,
 "nbformat_minor": 4
}
